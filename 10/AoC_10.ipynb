{
 "cells": [
  {
   "cell_type": "markdown",
   "metadata": {},
   "source": [
    "# Part I"
   ]
  },
  {
   "cell_type": "code",
   "execution_count": 1,
   "metadata": {},
   "outputs": [],
   "source": [
    "import pandas as pd\n",
    "import numpy as np"
   ]
  },
  {
   "cell_type": "code",
   "execution_count": 2,
   "metadata": {},
   "outputs": [],
   "source": [
    "def count_jolts(df_):\n",
    "    \n",
    "    df=df_.copy()\n",
    "    df_inout = pd.DataFrame([0, df['adapters'].max()+3], columns=['adapters'])\n",
    "    df=df.append(df_inout)\n",
    "\n",
    "    df.sort_values(by='adapters', inplace=True)\n",
    "    df['diff']=df['adapters'].diff()\n",
    "    \n",
    "    diff1 = df['diff'].value_counts()[1]\n",
    "    diff3 = df['diff'].value_counts()[3]\n",
    "    \n",
    "    result = diff1*diff3\n",
    "    return result"
   ]
  },
  {
   "cell_type": "code",
   "execution_count": 3,
   "metadata": {},
   "outputs": [
    {
     "data": {
      "text/plain": [
       "220"
      ]
     },
     "execution_count": 3,
     "metadata": {},
     "output_type": "execute_result"
    }
   ],
   "source": [
    "data_test=pd.read_csv('input_test.txt')\n",
    "count_jolts(data_test)"
   ]
  },
  {
   "cell_type": "code",
   "execution_count": 4,
   "metadata": {},
   "outputs": [
    {
     "data": {
      "text/plain": [
       "2030"
      ]
     },
     "execution_count": 4,
     "metadata": {},
     "output_type": "execute_result"
    }
   ],
   "source": [
    "data=pd.read_csv('input.txt')\n",
    "count_jolts(data)"
   ]
  },
  {
   "cell_type": "markdown",
   "metadata": {},
   "source": [
    "# Part II"
   ]
  },
  {
   "cell_type": "code",
   "execution_count": 5,
   "metadata": {},
   "outputs": [],
   "source": [
    "def count_com(df_):\n",
    "    \n",
    "    df=df_.copy()\n",
    "    df_inout = pd.DataFrame([0, df['adapters'].max()+3], columns=['adapters'])\n",
    "    df=df.append(df_inout)\n",
    "    \n",
    "    df['possibles'] = df['adapters'].apply(lambda x: len([y for y in df['adapters'] if y in range(x+1, x+4)]))\n",
    "    \n",
    "    l_ = [str(x) for x in df.sort_values('adapters')['possibles'].tolist()]\n",
    "    l_1 = [x for x in ''.join(l_).split('1') if x not in ['']]\n",
    "    \n",
    "    dict_ = {'2':2, '32':4, '332':7, '0':1}\n",
    "    res = pd.DataFrame(l_1).replace(dict_).prod()[0]\n",
    "    \n",
    "    return res"
   ]
  },
  {
   "cell_type": "code",
   "execution_count": 6,
   "metadata": {},
   "outputs": [
    {
     "data": {
      "text/plain": [
       "19208"
      ]
     },
     "execution_count": 6,
     "metadata": {},
     "output_type": "execute_result"
    }
   ],
   "source": [
    "count_com(data_test)"
   ]
  },
  {
   "cell_type": "code",
   "execution_count": 7,
   "metadata": {},
   "outputs": [
    {
     "data": {
      "text/plain": [
       "42313823813632"
      ]
     },
     "execution_count": 7,
     "metadata": {},
     "output_type": "execute_result"
    }
   ],
   "source": [
    "count_com(data)"
   ]
  }
 ],
 "metadata": {
  "kernelspec": {
   "display_name": "Python 3",
   "language": "python",
   "name": "python3"
  },
  "language_info": {
   "codemirror_mode": {
    "name": "ipython",
    "version": 3
   },
   "file_extension": ".py",
   "mimetype": "text/x-python",
   "name": "python",
   "nbconvert_exporter": "python",
   "pygments_lexer": "ipython3",
   "version": "3.7.3"
  }
 },
 "nbformat": 4,
 "nbformat_minor": 4
}
