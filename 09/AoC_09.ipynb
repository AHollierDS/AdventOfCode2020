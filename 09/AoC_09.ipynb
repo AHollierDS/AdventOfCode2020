{
 "cells": [
  {
   "cell_type": "code",
   "execution_count": 1,
   "metadata": {},
   "outputs": [],
   "source": [
    "import pandas as pd\n",
    "import numpy as np"
   ]
  },
  {
   "cell_type": "code",
   "execution_count": 22,
   "metadata": {},
   "outputs": [],
   "source": [
    "def find_possibles(x, df, size=25):\n",
    "    df_last = df.iloc[x-size:x]\n",
    "    l_possibles = []\n",
    "    \n",
    "    df_temp = df_last.copy()\n",
    "    \n",
    "    # Recherche des valeurs possibles\n",
    "    for i in range(1,size+1,1):\n",
    "        \n",
    "        l_new_1 = df_temp['XMAS'].iloc[i:].values.tolist()\n",
    "        l_new_2 = df_temp['XMAS'].iloc[:i].values.tolist()\n",
    "        df_temp['shift'] = l_new_1+l_new_2\n",
    "        \n",
    "        l_temp = (df_temp['shift']+df_temp['XMAS']).values.tolist()\n",
    "        l_possibles += l_temp\n",
    "    \n",
    "    l_possibles = list(set(l_possibles))\n",
    "    \n",
    "    # x est-il dans les valeurs possibles ?\n",
    "    val = df['XMAS'][x]\n",
    "    valid = val in l_possibles\n",
    "    \n",
    "    return valid"
   ]
  },
  {
   "cell_type": "code",
   "execution_count": 37,
   "metadata": {},
   "outputs": [
    {
     "data": {
      "text/html": [
       "<div>\n",
       "<style scoped>\n",
       "    .dataframe tbody tr th:only-of-type {\n",
       "        vertical-align: middle;\n",
       "    }\n",
       "\n",
       "    .dataframe tbody tr th {\n",
       "        vertical-align: top;\n",
       "    }\n",
       "\n",
       "    .dataframe thead th {\n",
       "        text-align: right;\n",
       "    }\n",
       "</style>\n",
       "<table border=\"1\" class=\"dataframe\">\n",
       "  <thead>\n",
       "    <tr style=\"text-align: right;\">\n",
       "      <th></th>\n",
       "      <th>XMAS</th>\n",
       "      <th>valid</th>\n",
       "    </tr>\n",
       "  </thead>\n",
       "  <tbody>\n",
       "    <tr>\n",
       "      <th>14</th>\n",
       "      <td>127</td>\n",
       "      <td>0.0</td>\n",
       "    </tr>\n",
       "  </tbody>\n",
       "</table>\n",
       "</div>"
      ],
      "text/plain": [
       "    XMAS  valid\n",
       "14   127    0.0"
      ]
     },
     "execution_count": 37,
     "metadata": {},
     "output_type": "execute_result"
    }
   ],
   "source": [
    "data_test = pd.read_csv('test_input.txt')\n",
    "data_test['valid'] = pd.Series(data_test.index).apply(lambda x: find_possibles(x, data_test, 5)).mask(data_test.index<5)\n",
    "data_test[data_test['valid']==0]"
   ]
  },
  {
   "cell_type": "code",
   "execution_count": 28,
   "metadata": {},
   "outputs": [
    {
     "data": {
      "text/html": [
       "<div>\n",
       "<style scoped>\n",
       "    .dataframe tbody tr th:only-of-type {\n",
       "        vertical-align: middle;\n",
       "    }\n",
       "\n",
       "    .dataframe tbody tr th {\n",
       "        vertical-align: top;\n",
       "    }\n",
       "\n",
       "    .dataframe thead th {\n",
       "        text-align: right;\n",
       "    }\n",
       "</style>\n",
       "<table border=\"1\" class=\"dataframe\">\n",
       "  <thead>\n",
       "    <tr style=\"text-align: right;\">\n",
       "      <th></th>\n",
       "      <th>XMAS</th>\n",
       "      <th>valid</th>\n",
       "    </tr>\n",
       "  </thead>\n",
       "  <tbody>\n",
       "    <tr>\n",
       "      <th>617</th>\n",
       "      <td>731031916</td>\n",
       "      <td>0.0</td>\n",
       "    </tr>\n",
       "  </tbody>\n",
       "</table>\n",
       "</div>"
      ],
      "text/plain": [
       "          XMAS  valid\n",
       "617  731031916    0.0"
      ]
     },
     "execution_count": 28,
     "metadata": {},
     "output_type": "execute_result"
    }
   ],
   "source": [
    "data = pd.read_csv('input.txt')\n",
    "data['valid'] = pd.Series(data.index).apply(lambda x: find_possibles(x, data, 25)).mask(data.index<25)\n",
    "data[data['valid']==0]"
   ]
  },
  {
   "cell_type": "markdown",
   "metadata": {},
   "source": [
    "# Part II"
   ]
  },
  {
   "cell_type": "code",
   "execution_count": 46,
   "metadata": {},
   "outputs": [],
   "source": [
    "# Calculer une somme glissante de longueur n\n",
    "# si une valeur de la somme glissante vaut l'invalid, récupérer le min et le max puis les sommer\n",
    "# sinon recommencer avec une somme glissante de longeur n+1\n",
    "\n",
    "def find_weakness(df):\n",
    "    \n",
    "    # Initialisation\n",
    "    invalid = df[df['valid']==0]['XMAS'].values[0]\n",
    "    wind=2\n",
    "    proceed=True\n",
    "\n",
    "    # Proceed\n",
    "    while proceed:\n",
    "        df['roll'] = df['XMAS'].rolling(window=wind).sum()\n",
    "\n",
    "        if len(df[df['roll']==invalid])>0:\n",
    "            proceed=False\n",
    "\n",
    "            i_sum = df[df['roll']==invalid].index[0]\n",
    "            s_ = df['XMAS'].iloc[i_sum-wind+1:i_sum]\n",
    "            mini = s_.min()\n",
    "            maxi = s_.max()\n",
    "\n",
    "            print(mini+maxi)\n",
    "\n",
    "        else:\n",
    "            wind+=1"
   ]
  },
  {
   "cell_type": "code",
   "execution_count": 47,
   "metadata": {},
   "outputs": [
    {
     "name": "stdout",
     "output_type": "stream",
     "text": [
      "62\n"
     ]
    }
   ],
   "source": [
    "find_weakness(data_test)"
   ]
  },
  {
   "cell_type": "code",
   "execution_count": 48,
   "metadata": {},
   "outputs": [
    {
     "name": "stdout",
     "output_type": "stream",
     "text": [
      "93396727\n"
     ]
    }
   ],
   "source": [
    "find_weakness(data)"
   ]
  }
 ],
 "metadata": {
  "kernelspec": {
   "display_name": "Python 3",
   "language": "python",
   "name": "python3"
  },
  "language_info": {
   "codemirror_mode": {
    "name": "ipython",
    "version": 3
   },
   "file_extension": ".py",
   "mimetype": "text/x-python",
   "name": "python",
   "nbconvert_exporter": "python",
   "pygments_lexer": "ipython3",
   "version": "3.7.3"
  }
 },
 "nbformat": 4,
 "nbformat_minor": 4
}
