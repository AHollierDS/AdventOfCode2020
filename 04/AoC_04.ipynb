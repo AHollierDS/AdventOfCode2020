{
 "cells": [
  {
   "cell_type": "markdown",
   "metadata": {},
   "source": [
    "# Part I"
   ]
  },
  {
   "cell_type": "code",
   "execution_count": null,
   "metadata": {},
   "outputs": [],
   "source": [
    "# Define passport fields\n",
    "passport_fields = ['byr', 'iyr', 'eyr', 'hgt', 'hcl', 'ecl', 'pid', 'cid']\n",
    "mandatory_fields = ['byr', 'iyr', 'eyr', 'hgt', 'hcl', 'ecl', 'pid']"
   ]
  },
  {
   "cell_type": "code",
   "execution_count": 2,
   "metadata": {},
   "outputs": [],
   "source": [
    "# import data\n",
    "with open('inputs.txt', 'r') as f:\n",
    "    data = f.read()"
   ]
  },
  {
   "cell_type": "code",
   "execution_count": 3,
   "metadata": {},
   "outputs": [],
   "source": [
    "# Separate passports\n",
    "l_passports = data.split('\\n\\n')"
   ]
  },
  {
   "cell_type": "code",
   "execution_count": 4,
   "metadata": {},
   "outputs": [
    {
     "name": "stdout",
     "output_type": "stream",
     "text": [
      "206\n"
     ]
    }
   ],
   "source": [
    "# Count valid passports\n",
    "l_valid = l_passports.copy()\n",
    "\n",
    "for field in mandatory_fields:\n",
    "    l_valid = [x for x in l_valid if field in x]\n",
    "\n",
    "print(len(l_valid))"
   ]
  },
  {
   "cell_type": "markdown",
   "metadata": {},
   "source": [
    "# Part II"
   ]
  },
  {
   "cell_type": "code",
   "execution_count": 6,
   "metadata": {},
   "outputs": [],
   "source": [
    "l_dict = []\n",
    "\n",
    "for elt in l_valid:\n",
    "    \n",
    "    l_elt = elt.replace('\\n', ' ').replace(' ',':').split(':')\n",
    "    keys = l_elt[::2]\n",
    "    values = l_elt[1::2]\n",
    "    dict_ = {}\n",
    "    \n",
    "    for i in range(len(keys)):\n",
    "        dict_[keys[i]] = values[i]\n",
    "        \n",
    "    l_dict +=[dict_]"
   ]
  },
  {
   "cell_type": "code",
   "execution_count": 7,
   "metadata": {},
   "outputs": [
    {
     "data": {
      "text/html": [
       "<div>\n",
       "<style scoped>\n",
       "    .dataframe tbody tr th:only-of-type {\n",
       "        vertical-align: middle;\n",
       "    }\n",
       "\n",
       "    .dataframe tbody tr th {\n",
       "        vertical-align: top;\n",
       "    }\n",
       "\n",
       "    .dataframe thead th {\n",
       "        text-align: right;\n",
       "    }\n",
       "</style>\n",
       "<table border=\"1\" class=\"dataframe\">\n",
       "  <thead>\n",
       "    <tr style=\"text-align: right;\">\n",
       "      <th></th>\n",
       "      <th>ecl</th>\n",
       "      <th>eyr</th>\n",
       "      <th>hcl</th>\n",
       "      <th>pid</th>\n",
       "      <th>iyr</th>\n",
       "      <th>cid</th>\n",
       "      <th>byr</th>\n",
       "      <th>hgt</th>\n",
       "    </tr>\n",
       "  </thead>\n",
       "  <tbody>\n",
       "    <tr>\n",
       "      <th>0</th>\n",
       "      <td>#eef340</td>\n",
       "      <td>2023</td>\n",
       "      <td>#c0946f</td>\n",
       "      <td>244684338</td>\n",
       "      <td>2020</td>\n",
       "      <td>57</td>\n",
       "      <td>1969</td>\n",
       "      <td>152cm</td>\n",
       "    </tr>\n",
       "    <tr>\n",
       "      <th>1</th>\n",
       "      <td>gry</td>\n",
       "      <td>2038</td>\n",
       "      <td>#fffffd</td>\n",
       "      <td>303807545</td>\n",
       "      <td>2011</td>\n",
       "      <td>213</td>\n",
       "      <td>1951</td>\n",
       "      <td>171cm</td>\n",
       "    </tr>\n",
       "    <tr>\n",
       "      <th>2</th>\n",
       "      <td>hzl</td>\n",
       "      <td>2025</td>\n",
       "      <td>#c0946f</td>\n",
       "      <td>517067213</td>\n",
       "      <td>2018</td>\n",
       "      <td>NaN</td>\n",
       "      <td>1933</td>\n",
       "      <td>173cm</td>\n",
       "    </tr>\n",
       "    <tr>\n",
       "      <th>3</th>\n",
       "      <td>hzl</td>\n",
       "      <td>1968</td>\n",
       "      <td>64cb63</td>\n",
       "      <td>5253256652</td>\n",
       "      <td>1989</td>\n",
       "      <td>NaN</td>\n",
       "      <td>2009</td>\n",
       "      <td>152cm</td>\n",
       "    </tr>\n",
       "    <tr>\n",
       "      <th>4</th>\n",
       "      <td>blu</td>\n",
       "      <td>2020</td>\n",
       "      <td>#888785</td>\n",
       "      <td>862607211</td>\n",
       "      <td>2013</td>\n",
       "      <td>NaN</td>\n",
       "      <td>1990</td>\n",
       "      <td>174cm</td>\n",
       "    </tr>\n",
       "  </tbody>\n",
       "</table>\n",
       "</div>"
      ],
      "text/plain": [
       "       ecl   eyr      hcl         pid   iyr  cid   byr    hgt\n",
       "0  #eef340  2023  #c0946f   244684338  2020   57  1969  152cm\n",
       "1      gry  2038  #fffffd   303807545  2011  213  1951  171cm\n",
       "2      hzl  2025  #c0946f   517067213  2018  NaN  1933  173cm\n",
       "3      hzl  1968   64cb63  5253256652  1989  NaN  2009  152cm\n",
       "4      blu  2020  #888785   862607211  2013  NaN  1990  174cm"
      ]
     },
     "execution_count": 7,
     "metadata": {},
     "output_type": "execute_result"
    }
   ],
   "source": [
    "import pandas as pd\n",
    "df_valid = pd.DataFrame(l_dict)\n",
    "df_valid.head()"
   ]
  },
  {
   "cell_type": "code",
   "execution_count": 8,
   "metadata": {},
   "outputs": [],
   "source": [
    "# Convert to integer\n",
    "df_valid['byr'] = df_valid['byr'].astype('int')\n",
    "df_valid['iyr'] = df_valid['iyr'].astype('int')\n",
    "df_valid['eyr'] = df_valid['eyr'].astype('int')"
   ]
  },
  {
   "cell_type": "code",
   "execution_count": 9,
   "metadata": {},
   "outputs": [],
   "source": [
    "# height units and values\n",
    "df_valid['hgt_value'] = pd.to_numeric(df_valid['hgt'].apply(lambda x: x[:-2]), 'coerce')\n",
    "df_valid['hgt_unit'] = df_valid['hgt'].apply(lambda x: x[-2:])\n",
    "\n",
    "df_valid['valid_cm'] = (df_valid['hgt_unit']=='cm') & (df_valid['hgt_value']>=150) & (df_valid['hgt_value']<=193)\n",
    "df_valid['valid_in'] = (df_valid['hgt_unit']=='in') & (df_valid['hgt_value']>=59) & (df_valid['hgt_value']<=76)\n",
    "df_valid['valid_height'] = df_valid['valid_cm'] | df_valid['valid_in']"
   ]
  },
  {
   "cell_type": "code",
   "execution_count": 10,
   "metadata": {},
   "outputs": [
    {
     "data": {
      "text/plain": [
       "(123, 13)"
      ]
     },
     "execution_count": 10,
     "metadata": {},
     "output_type": "execute_result"
    }
   ],
   "source": [
    "import re\n",
    "\n",
    "df_valid2 = df_valid[\n",
    "    (df_valid['byr']>=1920) & (df_valid['byr']<=2002) &\n",
    "    (df_valid['iyr']>=2010) & (df_valid['iyr']<=2020) &\n",
    "    (df_valid['eyr']>=2020) & (df_valid['eyr']<=2030) &\n",
    "    (df_valid['valid_height']) &\n",
    "    (df_valid['hcl'].apply(lambda x : re.match(r'^#[a-f0-9]{6}$',x)is not None)) &\n",
    "    (df_valid['ecl'].isin(['amb', 'blu', 'brn', 'gry', 'grn', 'hzl', 'oth'])) & \n",
    "    (df_valid['pid'].apply(lambda x : re.match(r'^[0-9]{9}$', x) is not None))\n",
    "]\n",
    "\n",
    "df_valid2.shape"
   ]
  }
 ],
 "metadata": {
  "kernelspec": {
   "display_name": "Python 3",
   "language": "python",
   "name": "python3"
  },
  "language_info": {
   "codemirror_mode": {
    "name": "ipython",
    "version": 3
   },
   "file_extension": ".py",
   "mimetype": "text/x-python",
   "name": "python",
   "nbconvert_exporter": "python",
   "pygments_lexer": "ipython3",
   "version": "3.7.3"
  }
 },
 "nbformat": 4,
 "nbformat_minor": 4
}
