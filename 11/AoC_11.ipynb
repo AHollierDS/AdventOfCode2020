{
 "cells": [
  {
   "cell_type": "markdown",
   "metadata": {},
   "source": [
    "# Part I"
   ]
  },
  {
   "cell_type": "code",
   "execution_count": 1,
   "metadata": {},
   "outputs": [],
   "source": [
    "def add_margin(df):\n",
    "    n_rows = len(df)\n",
    "    n_cols = len(df[0])\n",
    "    \n",
    "    new_data = ['.'*(n_cols+2)]\n",
    "    for row in range(n_rows):\n",
    "        new_data += ['.'+df[row]+'.']\n",
    "    new_data += ['.'*(n_cols+2)]\n",
    "    \n",
    "    return new_data"
   ]
  },
  {
   "cell_type": "code",
   "execution_count": 2,
   "metadata": {},
   "outputs": [],
   "source": [
    "def new_round(data):\n",
    "    \n",
    "    new_data = data.copy()\n",
    "    n_rows = len(data)\n",
    "    n_cols = len(data[0])\n",
    "    \n",
    "    # Maj sièges\n",
    "    for row in range(1,n_rows-1,1):\n",
    "        for col in range(1,n_cols-1,1):\n",
    "            \n",
    "            # Entourage\n",
    "            surrounding = data[row-1][col-1:col+2]\n",
    "            surrounding +=data[row+1][col-1:col+2]\n",
    "            surrounding +=data[row][col-1]\n",
    "            surrounding +=data[row][col+1]\n",
    "            \n",
    "            # Nombre de sièges occupés\n",
    "            n_occup = len([x for x in surrounding if x=='#'])\n",
    "            current = data[row][col]\n",
    "            \n",
    "            # Siège vide\n",
    "            if (current == 'L') and (n_occup==0):\n",
    "                new_data[row] =  new_data[row][:col] + '#' + data[row][col+1:]\n",
    "                \n",
    "            # Siège occupé\n",
    "            elif (current == '#') and (n_occup>3):\n",
    "                new_data[row] = new_data[row][:col] + 'L' + data[row][col+1:]\n",
    "            else:\n",
    "                pass\n",
    "    \n",
    "    return new_data"
   ]
  },
  {
   "cell_type": "code",
   "execution_count": 3,
   "metadata": {},
   "outputs": [],
   "source": [
    "def run_rounds(data):\n",
    "    new_data = add_margin(data)\n",
    "    proceed=True\n",
    "    \n",
    "    # Nouvelle disposition\n",
    "    while proceed:\n",
    "        previous_data = new_data.copy()\n",
    "        new_data = new_round(previous_data)\n",
    "        \n",
    "        if new_data==previous_data:\n",
    "            proceed=False\n",
    "            \n",
    "    # Décompte des sièges occupés\n",
    "    count = len([x for x in'.'.join(new_data) if x=='#'])\n",
    "            \n",
    "    return count"
   ]
  },
  {
   "cell_type": "code",
   "execution_count": 4,
   "metadata": {},
   "outputs": [
    {
     "data": {
      "text/plain": [
       "37"
      ]
     },
     "execution_count": 4,
     "metadata": {},
     "output_type": "execute_result"
    }
   ],
   "source": [
    "with open('test_input.txt','r') as f:\n",
    "    data_test=f.read().split('\\n')\n",
    "    \n",
    "run_rounds(data_test)"
   ]
  },
  {
   "cell_type": "code",
   "execution_count": 5,
   "metadata": {},
   "outputs": [
    {
     "data": {
      "text/plain": [
       "2270"
      ]
     },
     "execution_count": 5,
     "metadata": {},
     "output_type": "execute_result"
    }
   ],
   "source": [
    "with open('input.txt','r') as f:\n",
    "    data=f.read().split('\\n')\n",
    "    \n",
    "run_rounds(data)"
   ]
  },
  {
   "cell_type": "markdown",
   "metadata": {},
   "source": [
    "# Part II"
   ]
  },
  {
   "cell_type": "code",
   "execution_count": 6,
   "metadata": {},
   "outputs": [],
   "source": [
    "def next_seat(data, row, col, direction):\n",
    "    \n",
    "    seat='.'\n",
    "    \n",
    "    if direction=='U':\n",
    "        while (row > 0) & (seat=='.'):\n",
    "            seat = data[row-1][col]\n",
    "            row-=1\n",
    "        \n",
    "    elif direction=='UR':\n",
    "        while (row > 0) & (col+1<len(data[0])) & (seat=='.'):\n",
    "            seat = data[row-1][col+1]\n",
    "            row-=1\n",
    "            col+=1\n",
    "        \n",
    "    elif direction=='R':\n",
    "        while (col+1<len(data[0])) & (seat=='.'):\n",
    "            seat = data[row][col+1]\n",
    "            col+=1\n",
    "        \n",
    "    elif direction=='DR':\n",
    "        while (row+1<len(data)) & (col+1<len(data[0])) & (seat=='.'):\n",
    "            seat = data[row+1][col+1]\n",
    "            row+=1\n",
    "            col+=1\n",
    "        \n",
    "    elif direction=='D':\n",
    "        while (row+1 < len(data)) & (seat=='.'):\n",
    "            seat = data[row+1][col]\n",
    "            row+=1   \n",
    "            \n",
    "    elif direction=='DL':\n",
    "        while (row+1 < len(data)) & (col>0) & (seat=='.'):\n",
    "            seat = data[row+1][col-1]\n",
    "            row+=1\n",
    "            col-=1\n",
    "        \n",
    "    elif direction=='L':\n",
    "        while (col>0) & (seat=='.'):\n",
    "            seat = data[row][col-1]\n",
    "            col-=1\n",
    "        \n",
    "    elif direction=='UL':\n",
    "        while (row > 0) & (col>0) & (seat=='.'):\n",
    "            seat = data[row-1][col-1]\n",
    "            row-=1  \n",
    "            col-=1\n",
    "        \n",
    "    else:\n",
    "        pass\n",
    "    \n",
    "    return seat"
   ]
  },
  {
   "cell_type": "code",
   "execution_count": 7,
   "metadata": {},
   "outputs": [],
   "source": [
    "def new_round_II(data):\n",
    "    \n",
    "    new_data = data.copy()\n",
    "    n_rows = len(data)\n",
    "    n_cols = len(data[0])\n",
    "    \n",
    "    # Maj sièges\n",
    "    for row in range(1,n_rows-1,1):\n",
    "        for col in range(1,n_cols-1,1):\n",
    "            \n",
    "            # Entourage\n",
    "            surrounding = []\n",
    "            for direction in ['U', 'UR', 'R', 'DR', 'D', 'DL', 'L', 'UL']:\n",
    "                surrounding += [next_seat(data, row, col, direction)]\n",
    "            \n",
    "            # Nombre de sièges occupés\n",
    "            n_occup = len([x for x in surrounding if x=='#'])\n",
    "            current = data[row][col]\n",
    "            \n",
    "            # Siège vide\n",
    "            if (current == 'L') and (n_occup==0):\n",
    "                new_data[row] =  new_data[row][:col] + '#' + data[row][col+1:]\n",
    "                \n",
    "            # Siège occupé\n",
    "            elif (current == '#') and (n_occup>4):\n",
    "                new_data[row] = new_data[row][:col] + 'L' + data[row][col+1:]\n",
    "            else:\n",
    "                pass\n",
    "    \n",
    "    return new_data"
   ]
  },
  {
   "cell_type": "code",
   "execution_count": 8,
   "metadata": {},
   "outputs": [],
   "source": [
    "def run_rounds_II(data):\n",
    "    new_data = add_margin(data)\n",
    "    proceed=True\n",
    "    \n",
    "    # Nouvelle disposition\n",
    "    while proceed:\n",
    "        previous_data = new_data.copy()\n",
    "        new_data = new_round_II(previous_data)\n",
    "        \n",
    "        if new_data==previous_data:\n",
    "            proceed=False\n",
    "            \n",
    "    # Décompte des sièges occupés\n",
    "    count = len([x for x in'.'.join(new_data) if x=='#'])\n",
    "            \n",
    "    return count"
   ]
  },
  {
   "cell_type": "code",
   "execution_count": 9,
   "metadata": {},
   "outputs": [
    {
     "data": {
      "text/plain": [
       "26"
      ]
     },
     "execution_count": 9,
     "metadata": {},
     "output_type": "execute_result"
    }
   ],
   "source": [
    "run_rounds_II(data_test)"
   ]
  },
  {
   "cell_type": "code",
   "execution_count": 10,
   "metadata": {},
   "outputs": [
    {
     "data": {
      "text/plain": [
       "2042"
      ]
     },
     "execution_count": 10,
     "metadata": {},
     "output_type": "execute_result"
    }
   ],
   "source": [
    "run_rounds_II(data)"
   ]
  }
 ],
 "metadata": {
  "kernelspec": {
   "display_name": "Python 3",
   "language": "python",
   "name": "python3"
  },
  "language_info": {
   "codemirror_mode": {
    "name": "ipython",
    "version": 3
   },
   "file_extension": ".py",
   "mimetype": "text/x-python",
   "name": "python",
   "nbconvert_exporter": "python",
   "pygments_lexer": "ipython3",
   "version": "3.7.3"
  }
 },
 "nbformat": 4,
 "nbformat_minor": 4
}
