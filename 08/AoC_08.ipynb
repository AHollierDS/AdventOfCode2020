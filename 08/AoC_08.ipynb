{
 "cells": [
  {
   "cell_type": "markdown",
   "metadata": {},
   "source": [
    "# Part I"
   ]
  },
  {
   "cell_type": "code",
   "execution_count": 1,
   "metadata": {},
   "outputs": [],
   "source": [
    "import pandas as pd\n",
    "import numpy as np"
   ]
  },
  {
   "cell_type": "code",
   "execution_count": 2,
   "metadata": {},
   "outputs": [],
   "source": [
    "data_test=pd.read_csv('test_input.txt')\n",
    "data_test[['instruction', 'value']]=data_test['instruction'].str.split(' ', expand=True)\n",
    "data_test['value']=data_test['value'].astype('int')"
   ]
  },
  {
   "cell_type": "code",
   "execution_count": 3,
   "metadata": {},
   "outputs": [],
   "source": [
    "data=pd.read_csv('input.txt')\n",
    "data[['instruction', 'value']]=data['instruction'].str.split(' ', expand=True)\n",
    "data['value']=data['value'].astype('int')"
   ]
  },
  {
   "cell_type": "code",
   "execution_count": 4,
   "metadata": {},
   "outputs": [],
   "source": [
    "def run_program(data):\n",
    "    # Initialisation\n",
    "    acc=0\n",
    "    i=0\n",
    "    run_val = 0\n",
    "    data['n_run'] = 0\n",
    "    proceed=True\n",
    "    terminated=False\n",
    "\n",
    "    while proceed:\n",
    "\n",
    "        # Maj compteur\n",
    "        proceed=data.loc[i, 'n_run']==0\n",
    "        data.loc[i, 'n_run']+=1\n",
    "        run_val = data.loc[i, 'n_run']\n",
    "\n",
    "        # Action à executer\n",
    "        instr=data.loc[i,'instruction']\n",
    "        val=data.loc[i,'value']\n",
    "\n",
    "        # Execution\n",
    "        if (instr=='acc') & (proceed):\n",
    "            acc+=val\n",
    "            i+=1\n",
    "        elif instr=='jmp':\n",
    "            i+=val\n",
    "        else:\n",
    "            i+=1\n",
    "        \n",
    "        # Fin du programme\n",
    "        if i not in data.index:\n",
    "            proceed = False\n",
    "            terminated = True\n",
    "\n",
    "    # Résultat\n",
    "    return acc, terminated"
   ]
  },
  {
   "cell_type": "code",
   "execution_count": 5,
   "metadata": {},
   "outputs": [
    {
     "data": {
      "text/plain": [
       "(1928, False)"
      ]
     },
     "execution_count": 5,
     "metadata": {},
     "output_type": "execute_result"
    }
   ],
   "source": [
    "run_program(data)"
   ]
  },
  {
   "cell_type": "markdown",
   "metadata": {},
   "source": [
    "# Part II"
   ]
  },
  {
   "cell_type": "code",
   "execution_count": 6,
   "metadata": {},
   "outputs": [],
   "source": [
    "def change_instr(df_, i):\n",
    "    \n",
    "    df=df_.copy()\n",
    "    current_val = df['instruction'][i]\n",
    "    new_val = 'jmp' if current_val=='nop' else 'nop'\n",
    "    df['instruction'][i]=new_val\n",
    "    \n",
    "    return df"
   ]
  },
  {
   "cell_type": "code",
   "execution_count": 7,
   "metadata": {},
   "outputs": [],
   "source": [
    "def try_changes(df):\n",
    "    \n",
    "    l_accs = []\n",
    "    l_term = []\n",
    "    \n",
    "    i_change = [x for x in df.index if df['instruction'][x] in(['jmp','nop'])]\n",
    "    \n",
    "    for i in i_change:\n",
    "        new_data = change_instr(df,i)\n",
    "        end_acc, end_term = run_program(new_data)\n",
    "        \n",
    "        l_accs+=[end_acc]\n",
    "        l_term+=[end_term]\n",
    "        \n",
    "    i_terminated = l_term.index(True)\n",
    "    print(l_accs[i_terminated])"
   ]
  },
  {
   "cell_type": "code",
   "execution_count": 8,
   "metadata": {},
   "outputs": [
    {
     "name": "stderr",
     "output_type": "stream",
     "text": [
      "C:\\Users\\alexa_000\\Anaconda3\\lib\\site-packages\\ipykernel_launcher.py:5: SettingWithCopyWarning: \n",
      "A value is trying to be set on a copy of a slice from a DataFrame\n",
      "\n",
      "See the caveats in the documentation: https://pandas.pydata.org/pandas-docs/stable/user_guide/indexing.html#returning-a-view-versus-a-copy\n",
      "  \"\"\"\n"
     ]
    },
    {
     "name": "stdout",
     "output_type": "stream",
     "text": [
      "1319\n"
     ]
    }
   ],
   "source": [
    "try_changes(data)"
   ]
  },
  {
   "cell_type": "code",
   "execution_count": null,
   "metadata": {},
   "outputs": [],
   "source": []
  }
 ],
 "metadata": {
  "kernelspec": {
   "display_name": "Python 3",
   "language": "python",
   "name": "python3"
  },
  "language_info": {
   "codemirror_mode": {
    "name": "ipython",
    "version": 3
   },
   "file_extension": ".py",
   "mimetype": "text/x-python",
   "name": "python",
   "nbconvert_exporter": "python",
   "pygments_lexer": "ipython3",
   "version": "3.7.3"
  }
 },
 "nbformat": 4,
 "nbformat_minor": 4
}
