{
 "cells": [
  {
   "cell_type": "markdown",
   "metadata": {},
   "source": [
    "# Part One"
   ]
  },
  {
   "cell_type": "code",
   "execution_count": 1,
   "metadata": {},
   "outputs": [],
   "source": [
    "import pandas as pd\n",
    "import numpy as np"
   ]
  },
  {
   "cell_type": "code",
   "execution_count": 2,
   "metadata": {},
   "outputs": [],
   "source": [
    "test_data = pd.read_csv('test_input.txt')\n",
    "test_data['direction'] = test_data['instructions'].apply(lambda x : x[0])\n",
    "test_data['value'] = test_data['instructions'].apply(lambda x : int(x[1:]))"
   ]
  },
  {
   "cell_type": "code",
   "execution_count": 3,
   "metadata": {},
   "outputs": [],
   "source": [
    "data = pd.read_csv('input.txt')\n",
    "data['direction'] = data['instructions'].apply(lambda x : x[0])\n",
    "data['value'] = data['instructions'].apply(lambda x : int(x[1:]))"
   ]
  },
  {
   "cell_type": "code",
   "execution_count": 4,
   "metadata": {},
   "outputs": [],
   "source": [
    "def manhattan(data):\n",
    "    vals = [0,0,0,0]\n",
    "    cur_dir='E'\n",
    "    l_dirs = ['N','E','S','W']\n",
    "\n",
    "    for i in range(len(data)):\n",
    "        new_dir = data['direction'][i]\n",
    "        new_val = data['value'][i]\n",
    "\n",
    "        # Changement de direction\n",
    "        if new_dir=='R':\n",
    "            cur_dir = l_dirs[int(l_dirs.index(cur_dir)+(new_val/90))%4]\n",
    "            \n",
    "        elif new_dir=='L':\n",
    "            cur_dir = l_dirs[int(l_dirs.index(cur_dir)-(new_val/90))%4]\n",
    "\n",
    "        elif new_dir=='F':\n",
    "            vals[l_dirs.index(cur_dir)]+=new_val\n",
    "        else :\n",
    "            vals[l_dirs.index(new_dir)]+=new_val\n",
    "\n",
    "    manhattan = abs(vals[0]-vals[2])+abs(vals[1]-vals[3])\n",
    "    return manhattan"
   ]
  },
  {
   "cell_type": "code",
   "execution_count": 5,
   "metadata": {},
   "outputs": [
    {
     "data": {
      "text/plain": [
       "25"
      ]
     },
     "execution_count": 5,
     "metadata": {},
     "output_type": "execute_result"
    }
   ],
   "source": [
    "manhattan(test_data)"
   ]
  },
  {
   "cell_type": "code",
   "execution_count": 6,
   "metadata": {},
   "outputs": [
    {
     "data": {
      "text/plain": [
       "796"
      ]
     },
     "execution_count": 6,
     "metadata": {},
     "output_type": "execute_result"
    }
   ],
   "source": [
    "manhattan(data)"
   ]
  },
  {
   "cell_type": "markdown",
   "metadata": {},
   "source": [
    "# Part II"
   ]
  },
  {
   "cell_type": "code",
   "execution_count": 7,
   "metadata": {},
   "outputs": [],
   "source": [
    "import numpy as np\n",
    " \n",
    "def man_waypoint(data):\n",
    "    \n",
    "    # Initialisation\n",
    "    waypoint = [1, 10, 0, 0]\n",
    "    vals = [0,0,0,0]\n",
    "    cur_dir='E'\n",
    "    l_dirs = ['N','E','S','W']\n",
    "\n",
    "    for i in range(len(data)):\n",
    "        new_dir = data['direction'][i]\n",
    "        new_val = int(data['value'][i])\n",
    "        \n",
    "        if new_dir=='R':\n",
    "            n_rot = int(new_val/90)\n",
    "            waypoint=np.roll(waypoint, n_rot).tolist()\n",
    "            \n",
    "        elif new_dir=='L':\n",
    "            n_rot = -int(new_val/90)\n",
    "            waypoint=np.roll(waypoint,n_rot).tolist()\n",
    "\n",
    "        elif new_dir=='F':\n",
    "            vals = [x+new_val*y for x,y in zip(vals, waypoint)]\n",
    "            \n",
    "        else :\n",
    "            waypoint[l_dirs.index(new_dir)] += new_val\n",
    "\n",
    "    manhattan = abs(vals[0]-vals[2])+abs(vals[1]-vals[3])\n",
    "    return manhattan"
   ]
  },
  {
   "cell_type": "code",
   "execution_count": 8,
   "metadata": {},
   "outputs": [
    {
     "data": {
      "text/plain": [
       "286"
      ]
     },
     "execution_count": 8,
     "metadata": {},
     "output_type": "execute_result"
    }
   ],
   "source": [
    "man_waypoint(test_data)"
   ]
  },
  {
   "cell_type": "code",
   "execution_count": 9,
   "metadata": {},
   "outputs": [
    {
     "data": {
      "text/plain": [
       "39446"
      ]
     },
     "execution_count": 9,
     "metadata": {},
     "output_type": "execute_result"
    }
   ],
   "source": [
    "man_waypoint(data)"
   ]
  }
 ],
 "metadata": {
  "kernelspec": {
   "display_name": "Python 3",
   "language": "python",
   "name": "python3"
  },
  "language_info": {
   "codemirror_mode": {
    "name": "ipython",
    "version": 3
   },
   "file_extension": ".py",
   "mimetype": "text/x-python",
   "name": "python",
   "nbconvert_exporter": "python",
   "pygments_lexer": "ipython3",
   "version": "3.7.3"
  }
 },
 "nbformat": 4,
 "nbformat_minor": 4
}
