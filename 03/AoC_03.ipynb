{
 "cells": [
  {
   "cell_type": "code",
   "execution_count": 1,
   "metadata": {},
   "outputs": [],
   "source": [
    "import pandas as pd\n",
    "import numpy as np"
   ]
  },
  {
   "cell_type": "markdown",
   "metadata": {},
   "source": [
    "# Part I"
   ]
  },
  {
   "cell_type": "code",
   "execution_count": 2,
   "metadata": {},
   "outputs": [
    {
     "data": {
      "text/html": [
       "<div>\n",
       "<style scoped>\n",
       "    .dataframe tbody tr th:only-of-type {\n",
       "        vertical-align: middle;\n",
       "    }\n",
       "\n",
       "    .dataframe tbody tr th {\n",
       "        vertical-align: top;\n",
       "    }\n",
       "\n",
       "    .dataframe thead th {\n",
       "        text-align: right;\n",
       "    }\n",
       "</style>\n",
       "<table border=\"1\" class=\"dataframe\">\n",
       "  <thead>\n",
       "    <tr style=\"text-align: right;\">\n",
       "      <th></th>\n",
       "      <th>puzzle</th>\n",
       "    </tr>\n",
       "  </thead>\n",
       "  <tbody>\n",
       "    <tr>\n",
       "      <th>0</th>\n",
       "      <td>..#..#......###.#...#......#..#</td>\n",
       "    </tr>\n",
       "    <tr>\n",
       "      <th>1</th>\n",
       "      <td>...#.....#...#...#..........#..</td>\n",
       "    </tr>\n",
       "    <tr>\n",
       "      <th>2</th>\n",
       "      <td>....#.#...............#.#.#....</td>\n",
       "    </tr>\n",
       "    <tr>\n",
       "      <th>3</th>\n",
       "      <td>.........#.......##............</td>\n",
       "    </tr>\n",
       "    <tr>\n",
       "      <th>4</th>\n",
       "      <td>#.#....#.#####.##.#........#..#</td>\n",
       "    </tr>\n",
       "  </tbody>\n",
       "</table>\n",
       "</div>"
      ],
      "text/plain": [
       "                            puzzle\n",
       "0  ..#..#......###.#...#......#..#\n",
       "1  ...#.....#...#...#..........#..\n",
       "2  ....#.#...............#.#.#....\n",
       "3  .........#.......##............\n",
       "4  #.#....#.#####.##.#........#..#"
      ]
     },
     "execution_count": 2,
     "metadata": {},
     "output_type": "execute_result"
    }
   ],
   "source": [
    "# Import data\n",
    "data = pd.read_csv('input.csv')\n",
    "data.head()"
   ]
  },
  {
   "cell_type": "code",
   "execution_count": 3,
   "metadata": {},
   "outputs": [],
   "source": [
    "# Shift characters\n",
    "data['shift'] = (3*data.index.values)%31\n",
    "data['couple'] = data['puzzle']+'/'+data['shift'].apply(str)"
   ]
  },
  {
   "cell_type": "code",
   "execution_count": 4,
   "metadata": {},
   "outputs": [],
   "source": [
    "# Retrieve element in position\n",
    "def search_elt(string):\n",
    "    text = string.split('/')[0]\n",
    "    position = int(string.split('/')[1])\n",
    "    elt = text[position]\n",
    "    \n",
    "    tree = (elt=='#')\n",
    "    \n",
    "    return tree\n",
    "\n",
    "data['tree'] = data['couple'].apply(search_elt)"
   ]
  },
  {
   "cell_type": "code",
   "execution_count": 5,
   "metadata": {},
   "outputs": [
    {
     "data": {
      "text/plain": [
       "292"
      ]
     },
     "execution_count": 5,
     "metadata": {},
     "output_type": "execute_result"
    }
   ],
   "source": [
    "# Number of trees encounted\n",
    "data['tree'].sum()"
   ]
  },
  {
   "cell_type": "markdown",
   "metadata": {},
   "source": [
    "# Part II"
   ]
  },
  {
   "cell_type": "code",
   "execution_count": 6,
   "metadata": {},
   "outputs": [],
   "source": [
    "def count_tree(data, slope):\n",
    "    \n",
    "    # Select data\n",
    "    df_=data[['puzzle']].copy().loc[data.index.values[::slope[1]]]\n",
    "    df_.index = range(len(df_))\n",
    "    \n",
    "    # Shift\n",
    "    df_['shift'] = (slope[0]*df_.index.values)%31\n",
    "    df_['couple'] = df_['puzzle']+'/'+df_['shift'].apply(str)\n",
    "    \n",
    "    # Count trees\n",
    "    df_['tree'] = df_['couple'].apply(search_elt)\n",
    "    c = df_['tree'].sum()\n",
    "    \n",
    "    return c"
   ]
  },
  {
   "cell_type": "code",
   "execution_count": 7,
   "metadata": {},
   "outputs": [
    {
     "name": "stdout",
     "output_type": "stream",
     "text": [
      "[81, 292, 89, 101, 44]\n",
      "9354744432\n"
     ]
    }
   ],
   "source": [
    "# Count trees for each slope and multiply\n",
    "list_slopes = [(1,1), (3,1), (5,1), (7,1), (1,2)]\n",
    "l_trees = []\n",
    "mlt = 1\n",
    "\n",
    "for slope in list_slopes :\n",
    "    c = count_tree(data, slope)\n",
    "    l_trees += [c]\n",
    "    mlt *= c\n",
    "    \n",
    "print(l_trees)\n",
    "print(mlt)"
   ]
  },
  {
   "cell_type": "code",
   "execution_count": null,
   "metadata": {},
   "outputs": [],
   "source": []
  }
 ],
 "metadata": {
  "kernelspec": {
   "display_name": "Python 3",
   "language": "python",
   "name": "python3"
  },
  "language_info": {
   "codemirror_mode": {
    "name": "ipython",
    "version": 3
   },
   "file_extension": ".py",
   "mimetype": "text/x-python",
   "name": "python",
   "nbconvert_exporter": "python",
   "pygments_lexer": "ipython3",
   "version": "3.7.3"
  }
 },
 "nbformat": 4,
 "nbformat_minor": 4
}
