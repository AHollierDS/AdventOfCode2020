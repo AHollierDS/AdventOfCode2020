{
 "cells": [
  {
   "cell_type": "code",
   "execution_count": 1,
   "metadata": {},
   "outputs": [],
   "source": [
    "import pandas as pd"
   ]
  },
  {
   "cell_type": "markdown",
   "metadata": {},
   "source": [
    "# Part I"
   ]
  },
  {
   "cell_type": "code",
   "execution_count": 2,
   "metadata": {},
   "outputs": [
    {
     "data": {
      "text/html": [
       "<div>\n",
       "<style scoped>\n",
       "    .dataframe tbody tr th:only-of-type {\n",
       "        vertical-align: middle;\n",
       "    }\n",
       "\n",
       "    .dataframe tbody tr th {\n",
       "        vertical-align: top;\n",
       "    }\n",
       "\n",
       "    .dataframe thead th {\n",
       "        text-align: right;\n",
       "    }\n",
       "</style>\n",
       "<table border=\"1\" class=\"dataframe\">\n",
       "  <thead>\n",
       "    <tr style=\"text-align: right;\">\n",
       "      <th></th>\n",
       "      <th>container</th>\n",
       "      <th>0</th>\n",
       "      <th>1</th>\n",
       "      <th>2</th>\n",
       "      <th>3</th>\n",
       "    </tr>\n",
       "  </thead>\n",
       "  <tbody>\n",
       "    <tr>\n",
       "      <th>0</th>\n",
       "      <td>muted tomato bags</td>\n",
       "      <td>bright brown bags</td>\n",
       "      <td>dotted gold bags</td>\n",
       "      <td>faded gray bags</td>\n",
       "      <td>posh yellow bags</td>\n",
       "    </tr>\n",
       "    <tr>\n",
       "      <th>1</th>\n",
       "      <td>posh brown bags</td>\n",
       "      <td>dark lime bags</td>\n",
       "      <td>mirrored crimson bags</td>\n",
       "      <td>striped chartreuse bags</td>\n",
       "      <td>None</td>\n",
       "    </tr>\n",
       "    <tr>\n",
       "      <th>2</th>\n",
       "      <td>dotted violet bags</td>\n",
       "      <td>striped white bags</td>\n",
       "      <td>None</td>\n",
       "      <td>None</td>\n",
       "      <td>None</td>\n",
       "    </tr>\n",
       "    <tr>\n",
       "      <th>3</th>\n",
       "      <td>mirrored black bags</td>\n",
       "      <td>clear yellow bags</td>\n",
       "      <td>None</td>\n",
       "      <td>None</td>\n",
       "      <td>None</td>\n",
       "    </tr>\n",
       "    <tr>\n",
       "      <th>4</th>\n",
       "      <td>light aqua bags</td>\n",
       "      <td>clear silver bags</td>\n",
       "      <td>shiny coral bags</td>\n",
       "      <td>muted tomato bags</td>\n",
       "      <td>drab turquoise bags</td>\n",
       "    </tr>\n",
       "  </tbody>\n",
       "</table>\n",
       "</div>"
      ],
      "text/plain": [
       "             container                   0                      1  \\\n",
       "0    muted tomato bags   bright brown bags       dotted gold bags   \n",
       "1      posh brown bags      dark lime bags  mirrored crimson bags   \n",
       "2   dotted violet bags  striped white bags                   None   \n",
       "3  mirrored black bags   clear yellow bags                   None   \n",
       "4      light aqua bags   clear silver bags       shiny coral bags   \n",
       "\n",
       "                         2                    3  \n",
       "0          faded gray bags     posh yellow bags  \n",
       "1  striped chartreuse bags                 None  \n",
       "2                     None                 None  \n",
       "3                     None                 None  \n",
       "4        muted tomato bags  drab turquoise bags  "
      ]
     },
     "execution_count": 2,
     "metadata": {},
     "output_type": "execute_result"
    }
   ],
   "source": [
    "# Prepare data\n",
    "data = pd.read_csv('input.txt', sep=';')\n",
    "\n",
    "data = data['rules'].str.split(' contain ', expand=True)\n",
    "data.columns = ['container', 'content']\n",
    "\n",
    "data['content'] = data['content'].str.replace(r'[0-9]', '')\n",
    "data['content'] = data['content'].str.replace('bags','bag')\n",
    "data['content'] = data['content'].str.replace('bag','bags')\n",
    "\n",
    "data = data[['container']].join(data['content'].str.split(',', expand = True))\n",
    "\n",
    "for c in [0,1,2,3]:\n",
    "    data[c] = data[c].str.replace('.', '')\n",
    "    data[c] = data[c].str.lstrip()\n",
    "\n",
    "data.head()"
   ]
  },
  {
   "cell_type": "code",
   "execution_count": 3,
   "metadata": {},
   "outputs": [],
   "source": [
    "# Function for finding containers of a list of bags\n",
    "def list_containers(bag_list):\n",
    "    data['contains_my_bag'] = (data[0].isin(bag_list)) | (data[1].isin(bag_list)) | (data[2].isin(bag_list)) | (data[3].isin(bag_list))\n",
    "    l_containers = data[data['contains_my_bag']]['container'].values.tolist()\n",
    "    \n",
    "    return l_containers"
   ]
  },
  {
   "cell_type": "code",
   "execution_count": 4,
   "metadata": {},
   "outputs": [],
   "source": [
    "# Retrieve all containers that can contain my bag\n",
    "my_list = ['shiny gold bags']\n",
    "continuer = True\n",
    "all_containers = []\n",
    "\n",
    "while continuer:\n",
    "    my_list = list_containers(my_list)\n",
    "    \n",
    "    if len(my_list)>0:\n",
    "        all_containers += my_list\n",
    "    else:\n",
    "        continuer = False"
   ]
  },
  {
   "cell_type": "code",
   "execution_count": 5,
   "metadata": {},
   "outputs": [
    {
     "data": {
      "text/plain": [
       "289"
      ]
     },
     "execution_count": 5,
     "metadata": {},
     "output_type": "execute_result"
    }
   ],
   "source": [
    "# Remove duplicates and count unique containers\n",
    "unique_containers = list(set(all_containers))\n",
    "len(unique_containers)"
   ]
  },
  {
   "cell_type": "markdown",
   "metadata": {},
   "source": [
    "# Part II"
   ]
  },
  {
   "cell_type": "code",
   "execution_count": 6,
   "metadata": {},
   "outputs": [
    {
     "data": {
      "text/html": [
       "<div>\n",
       "<style scoped>\n",
       "    .dataframe tbody tr th:only-of-type {\n",
       "        vertical-align: middle;\n",
       "    }\n",
       "\n",
       "    .dataframe tbody tr th {\n",
       "        vertical-align: top;\n",
       "    }\n",
       "\n",
       "    .dataframe thead th {\n",
       "        text-align: right;\n",
       "    }\n",
       "</style>\n",
       "<table border=\"1\" class=\"dataframe\">\n",
       "  <thead>\n",
       "    <tr style=\"text-align: right;\">\n",
       "      <th></th>\n",
       "      <th>container</th>\n",
       "      <th>content</th>\n",
       "    </tr>\n",
       "  </thead>\n",
       "  <tbody>\n",
       "    <tr>\n",
       "      <th>0</th>\n",
       "      <td>muted tomato bags</td>\n",
       "      <td>1 bright brown bag, 1 dotted gold bag, 2 faded...</td>\n",
       "    </tr>\n",
       "    <tr>\n",
       "      <th>1</th>\n",
       "      <td>posh brown bags</td>\n",
       "      <td>1 dark lime bag, 5 mirrored crimson bags, 1 st...</td>\n",
       "    </tr>\n",
       "    <tr>\n",
       "      <th>2</th>\n",
       "      <td>dotted violet bags</td>\n",
       "      <td>4 striped white bags.</td>\n",
       "    </tr>\n",
       "    <tr>\n",
       "      <th>3</th>\n",
       "      <td>mirrored black bags</td>\n",
       "      <td>1 clear yellow bag.</td>\n",
       "    </tr>\n",
       "    <tr>\n",
       "      <th>4</th>\n",
       "      <td>light aqua bags</td>\n",
       "      <td>3 clear silver bags, 2 shiny coral bags, 2 mut...</td>\n",
       "    </tr>\n",
       "  </tbody>\n",
       "</table>\n",
       "</div>"
      ],
      "text/plain": [
       "             container                                            content\n",
       "0    muted tomato bags  1 bright brown bag, 1 dotted gold bag, 2 faded...\n",
       "1      posh brown bags  1 dark lime bag, 5 mirrored crimson bags, 1 st...\n",
       "2   dotted violet bags                              4 striped white bags.\n",
       "3  mirrored black bags                                1 clear yellow bag.\n",
       "4      light aqua bags  3 clear silver bags, 2 shiny coral bags, 2 mut..."
      ]
     },
     "execution_count": 6,
     "metadata": {},
     "output_type": "execute_result"
    }
   ],
   "source": [
    "data = pd.read_csv('input.txt', sep=';')\n",
    "\n",
    "data = data['rules'].str.split(' contain ', expand=True)\n",
    "data.columns = ['container', 'content']\n",
    "data.head()"
   ]
  },
  {
   "cell_type": "code",
   "execution_count": 7,
   "metadata": {},
   "outputs": [
    {
     "data": {
      "text/html": [
       "<div>\n",
       "<style scoped>\n",
       "    .dataframe tbody tr th:only-of-type {\n",
       "        vertical-align: middle;\n",
       "    }\n",
       "\n",
       "    .dataframe tbody tr th {\n",
       "        vertical-align: top;\n",
       "    }\n",
       "\n",
       "    .dataframe thead th {\n",
       "        text-align: right;\n",
       "    }\n",
       "</style>\n",
       "<table border=\"1\" class=\"dataframe\">\n",
       "  <thead>\n",
       "    <tr style=\"text-align: right;\">\n",
       "      <th></th>\n",
       "      <th>container</th>\n",
       "      <th>content</th>\n",
       "    </tr>\n",
       "  </thead>\n",
       "  <tbody>\n",
       "    <tr>\n",
       "      <th>579</th>\n",
       "      <td>shiny gold bags</td>\n",
       "      <td>1 shiny coral bag, 5 posh white bags, 3 wavy c...</td>\n",
       "    </tr>\n",
       "  </tbody>\n",
       "</table>\n",
       "</div>"
      ],
      "text/plain": [
       "           container                                            content\n",
       "579  shiny gold bags  1 shiny coral bag, 5 posh white bags, 3 wavy c..."
      ]
     },
     "execution_count": 7,
     "metadata": {},
     "output_type": "execute_result"
    }
   ],
   "source": [
    "data[data['container']=='shiny gold bags']"
   ]
  },
  {
   "cell_type": "code",
   "execution_count": 30,
   "metadata": {},
   "outputs": [],
   "source": [
    "def retrieve_bags(x): \n",
    "    l_bags = [bag for bag in x.replace(r'[0-9]','').split(', ')]\n",
    "    return l_bags"
   ]
  },
  {
   "cell_type": "code",
   "execution_count": 44,
   "metadata": {},
   "outputs": [],
   "source": [
    "data['bags'] = data['content'].str.replace(r'[0-9]', '')\n",
    "data['bags'] = data['bags'].str.replace('bags','bag')\n",
    "data['bags'] = data['bags'].str.replace('bag','bags')\n",
    "data['bags'] = data['bags'].str.split(',')"
   ]
  },
  {
   "cell_type": "code",
   "execution_count": 46,
   "metadata": {},
   "outputs": [
    {
     "data": {
      "text/plain": [
       "0       bright brown bag, 1 dotted gold bag, 2 faded ...\n",
       "1       dark lime bag, 5 mirrored crimson bags, 1 str...\n",
       "2                                    striped white bags.\n",
       "3                                      clear yellow bag.\n",
       "4       clear silver bags, 2 shiny coral bags, 2 mute...\n",
       "                             ...                        \n",
       "589                                    dotted aqua bags.\n",
       "590                                light turquoise bags.\n",
       "591     muted orange bags, 4 shiny black bags, 1 shin...\n",
       "592                 plaid bronze bag, 2 shiny gold bags.\n",
       "593                                   dotted black bags.\n",
       "Name: content, Length: 594, dtype: object"
      ]
     },
     "execution_count": 46,
     "metadata": {},
     "output_type": "execute_result"
    }
   ],
   "source": [
    "data['content'].str.replace(r'^[0-9]', '')"
   ]
  },
  {
   "cell_type": "code",
   "execution_count": null,
   "metadata": {},
   "outputs": [],
   "source": []
  }
 ],
 "metadata": {
  "kernelspec": {
   "display_name": "Python 3",
   "language": "python",
   "name": "python3"
  },
  "language_info": {
   "codemirror_mode": {
    "name": "ipython",
    "version": 3
   },
   "file_extension": ".py",
   "mimetype": "text/x-python",
   "name": "python",
   "nbconvert_exporter": "python",
   "pygments_lexer": "ipython3",
   "version": "3.7.3"
  }
 },
 "nbformat": 4,
 "nbformat_minor": 4
}
